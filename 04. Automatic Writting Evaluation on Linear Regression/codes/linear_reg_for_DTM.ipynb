{
  "nbformat": 4,
  "nbformat_minor": 0,
  "metadata": {
    "colab": {
      "provenance": []
    },
    "kernelspec": {
      "name": "python3",
      "display_name": "Python 3"
    },
    "language_info": {
      "name": "python"
    }
  },
  "cells": [
    {
      "cell_type": "code",
      "execution_count": 2,
      "metadata": {
        "id": "LXZtPonD_Nv0"
      },
      "outputs": [],
      "source": [
        "import pandas as pd\n",
        "import torch\n",
        "import sklearn"
      ]
    },
    {
      "cell_type": "code",
      "source": [
        "df = pd.read_csv(\"AWE_1000_score.csv\")"
      ],
      "metadata": {
        "id": "an-6VkBp_Xvb"
      },
      "execution_count": 3,
      "outputs": []
    },
    {
      "cell_type": "code",
      "source": [
        "df.head(2)"
      ],
      "metadata": {
        "colab": {
          "base_uri": "https://localhost:8080/",
          "height": 208
        },
        "id": "FpgJxnbz_f2W",
        "outputId": "fa86ccda-92f1-4a22-dfc1-cf5debefb214"
      },
      "execution_count": 4,
      "outputs": [
        {
          "output_type": "execute_result",
          "data": {
            "text/plain": [
              "   Unnamed: 0                     id nationality sex          title  \\\n",
              "0           1  A100000_v01.txt_2.txt          중국  남자  우리 나라의 계절과 날씨   \n",
              "1           2  A100000_v02.txt_1.txt          중국  여자         주말 이야기   \n",
              "\n",
              "                                             content  score  \n",
              "0  제 나라의 계절은 아주 좋아요. 네 계절이 있습니다. 봄에는 날씨가 좋아요. 꽃이 ...     80  \n",
              "1  어제 명동에 갔습니다. 친구하고 같이 갔습니다. 가게가 많습니다. 옷가게가 있었습니...     70  "
            ],
            "text/html": [
              "\n",
              "  <div id=\"df-7360149b-0a9e-4550-8a97-ae262696e019\">\n",
              "    <div class=\"colab-df-container\">\n",
              "      <div>\n",
              "<style scoped>\n",
              "    .dataframe tbody tr th:only-of-type {\n",
              "        vertical-align: middle;\n",
              "    }\n",
              "\n",
              "    .dataframe tbody tr th {\n",
              "        vertical-align: top;\n",
              "    }\n",
              "\n",
              "    .dataframe thead th {\n",
              "        text-align: right;\n",
              "    }\n",
              "</style>\n",
              "<table border=\"1\" class=\"dataframe\">\n",
              "  <thead>\n",
              "    <tr style=\"text-align: right;\">\n",
              "      <th></th>\n",
              "      <th>Unnamed: 0</th>\n",
              "      <th>id</th>\n",
              "      <th>nationality</th>\n",
              "      <th>sex</th>\n",
              "      <th>title</th>\n",
              "      <th>content</th>\n",
              "      <th>score</th>\n",
              "    </tr>\n",
              "  </thead>\n",
              "  <tbody>\n",
              "    <tr>\n",
              "      <th>0</th>\n",
              "      <td>1</td>\n",
              "      <td>A100000_v01.txt_2.txt</td>\n",
              "      <td>중국</td>\n",
              "      <td>남자</td>\n",
              "      <td>우리 나라의 계절과 날씨</td>\n",
              "      <td>제 나라의 계절은 아주 좋아요. 네 계절이 있습니다. 봄에는 날씨가 좋아요. 꽃이 ...</td>\n",
              "      <td>80</td>\n",
              "    </tr>\n",
              "    <tr>\n",
              "      <th>1</th>\n",
              "      <td>2</td>\n",
              "      <td>A100000_v02.txt_1.txt</td>\n",
              "      <td>중국</td>\n",
              "      <td>여자</td>\n",
              "      <td>주말 이야기</td>\n",
              "      <td>어제 명동에 갔습니다. 친구하고 같이 갔습니다. 가게가 많습니다. 옷가게가 있었습니...</td>\n",
              "      <td>70</td>\n",
              "    </tr>\n",
              "  </tbody>\n",
              "</table>\n",
              "</div>\n",
              "      <button class=\"colab-df-convert\" onclick=\"convertToInteractive('df-7360149b-0a9e-4550-8a97-ae262696e019')\"\n",
              "              title=\"Convert this dataframe to an interactive table.\"\n",
              "              style=\"display:none;\">\n",
              "        \n",
              "  <svg xmlns=\"http://www.w3.org/2000/svg\" height=\"24px\"viewBox=\"0 0 24 24\"\n",
              "       width=\"24px\">\n",
              "    <path d=\"M0 0h24v24H0V0z\" fill=\"none\"/>\n",
              "    <path d=\"M18.56 5.44l.94 2.06.94-2.06 2.06-.94-2.06-.94-.94-2.06-.94 2.06-2.06.94zm-11 1L8.5 8.5l.94-2.06 2.06-.94-2.06-.94L8.5 2.5l-.94 2.06-2.06.94zm10 10l.94 2.06.94-2.06 2.06-.94-2.06-.94-.94-2.06-.94 2.06-2.06.94z\"/><path d=\"M17.41 7.96l-1.37-1.37c-.4-.4-.92-.59-1.43-.59-.52 0-1.04.2-1.43.59L10.3 9.45l-7.72 7.72c-.78.78-.78 2.05 0 2.83L4 21.41c.39.39.9.59 1.41.59.51 0 1.02-.2 1.41-.59l7.78-7.78 2.81-2.81c.8-.78.8-2.07 0-2.86zM5.41 20L4 18.59l7.72-7.72 1.47 1.35L5.41 20z\"/>\n",
              "  </svg>\n",
              "      </button>\n",
              "      \n",
              "  <style>\n",
              "    .colab-df-container {\n",
              "      display:flex;\n",
              "      flex-wrap:wrap;\n",
              "      gap: 12px;\n",
              "    }\n",
              "\n",
              "    .colab-df-convert {\n",
              "      background-color: #E8F0FE;\n",
              "      border: none;\n",
              "      border-radius: 50%;\n",
              "      cursor: pointer;\n",
              "      display: none;\n",
              "      fill: #1967D2;\n",
              "      height: 32px;\n",
              "      padding: 0 0 0 0;\n",
              "      width: 32px;\n",
              "    }\n",
              "\n",
              "    .colab-df-convert:hover {\n",
              "      background-color: #E2EBFA;\n",
              "      box-shadow: 0px 1px 2px rgba(60, 64, 67, 0.3), 0px 1px 3px 1px rgba(60, 64, 67, 0.15);\n",
              "      fill: #174EA6;\n",
              "    }\n",
              "\n",
              "    [theme=dark] .colab-df-convert {\n",
              "      background-color: #3B4455;\n",
              "      fill: #D2E3FC;\n",
              "    }\n",
              "\n",
              "    [theme=dark] .colab-df-convert:hover {\n",
              "      background-color: #434B5C;\n",
              "      box-shadow: 0px 1px 3px 1px rgba(0, 0, 0, 0.15);\n",
              "      filter: drop-shadow(0px 1px 2px rgba(0, 0, 0, 0.3));\n",
              "      fill: #FFFFFF;\n",
              "    }\n",
              "  </style>\n",
              "\n",
              "      <script>\n",
              "        const buttonEl =\n",
              "          document.querySelector('#df-7360149b-0a9e-4550-8a97-ae262696e019 button.colab-df-convert');\n",
              "        buttonEl.style.display =\n",
              "          google.colab.kernel.accessAllowed ? 'block' : 'none';\n",
              "\n",
              "        async function convertToInteractive(key) {\n",
              "          const element = document.querySelector('#df-7360149b-0a9e-4550-8a97-ae262696e019');\n",
              "          const dataTable =\n",
              "            await google.colab.kernel.invokeFunction('convertToInteractive',\n",
              "                                                     [key], {});\n",
              "          if (!dataTable) return;\n",
              "\n",
              "          const docLinkHtml = 'Like what you see? Visit the ' +\n",
              "            '<a target=\"_blank\" href=https://colab.research.google.com/notebooks/data_table.ipynb>data table notebook</a>'\n",
              "            + ' to learn more about interactive tables.';\n",
              "          element.innerHTML = '';\n",
              "          dataTable['output_type'] = 'display_data';\n",
              "          await google.colab.output.renderOutput(dataTable, element);\n",
              "          const docLink = document.createElement('div');\n",
              "          docLink.innerHTML = docLinkHtml;\n",
              "          element.appendChild(docLink);\n",
              "        }\n",
              "      </script>\n",
              "    </div>\n",
              "  </div>\n",
              "  "
            ]
          },
          "metadata": {},
          "execution_count": 4
        }
      ]
    },
    {
      "cell_type": "code",
      "source": [
        "df[\"sentence\"] = df[\"content\"].apply(lambda x: len(x.split(\".\")))\n",
        "#df[\"content\"].apply(lambda x: len(x.split(\".\"))).value_counts()"
      ],
      "metadata": {
        "id": "N23xVJCG_kYZ"
      },
      "execution_count": 5,
      "outputs": []
    },
    {
      "cell_type": "code",
      "source": [
        "from sklearn.feature_extraction.text import TfidfVectorizer\n",
        "corpus = df[\"content\"]\n",
        "vectorizer = TfidfVectorizer()\n",
        "X = vectorizer.fit_transform(corpus)"
      ],
      "metadata": {
        "id": "_E_Y_rbX_nRl",
        "colab": {
          "base_uri": "https://localhost:8080/"
        },
        "outputId": "b34fb436-d258-4f02-c41a-532387dcb2bf"
      },
      "execution_count": 15,
      "outputs": [
        {
          "output_type": "execute_result",
          "data": {
            "text/plain": [
              "array(['00', '00보터', '00시', ..., '힘들으지만', '힘들지', '힘들지만'], dtype=object)"
            ]
          },
          "metadata": {},
          "execution_count": 15
        }
      ]
    },
    {
      "cell_type": "code",
      "source": [
        "len(vectorizer.get_feature_names_out())"
      ],
      "metadata": {
        "colab": {
          "base_uri": "https://localhost:8080/"
        },
        "id": "LibF_Nge8re_",
        "outputId": "c2c29446-2461-4605-b69b-2a4d49a78388"
      },
      "execution_count": 16,
      "outputs": [
        {
          "output_type": "execute_result",
          "data": {
            "text/plain": [
              "8093"
            ]
          },
          "metadata": {},
          "execution_count": 16
        }
      ]
    },
    {
      "cell_type": "code",
      "source": [
        "X"
      ],
      "metadata": {
        "colab": {
          "base_uri": "https://localhost:8080/"
        },
        "id": "0ISlYBR_8yyf",
        "outputId": "d2804dce-cf11-4c79-b70d-cb54ba14ab5d"
      },
      "execution_count": 19,
      "outputs": [
        {
          "output_type": "execute_result",
          "data": {
            "text/plain": [
              "<1000x8093 sparse matrix of type '<class 'numpy.float64'>'\n",
              "\twith 34048 stored elements in Compressed Sparse Row format>"
            ]
          },
          "metadata": {},
          "execution_count": 19
        }
      ]
    },
    {
      "cell_type": "code",
      "source": [
        "df[\"content_vector\"] = X.todense().tolist()"
      ],
      "metadata": {
        "id": "UUVv0mrX7VqH"
      },
      "execution_count": 21,
      "outputs": []
    },
    {
      "cell_type": "code",
      "source": [
        "df"
      ],
      "metadata": {
        "colab": {
          "base_uri": "https://localhost:8080/",
          "height": 1000
        },
        "id": "muhhj-Oy8ape",
        "outputId": "997ebd48-f4ff-4235-ab3e-7494285806d4"
      },
      "execution_count": 22,
      "outputs": [
        {
          "output_type": "execute_result",
          "data": {
            "text/plain": [
              "     Unnamed: 0                     id nationality sex          title  \\\n",
              "0             1  A100000_v01.txt_2.txt          중국  남자  우리 나라의 계절과 날씨   \n",
              "1             2  A100000_v02.txt_1.txt          중국  여자         주말 이야기   \n",
              "2             3  A100000_v03.txt_1.txt          중국  남자          여행 계획   \n",
              "3             4  A100001_v01.txt_1.txt          중국  남자         주말 이야기   \n",
              "4             5  A100001_v02.txt_1.txt          중국  남자         주말 이야기   \n",
              "..          ...                    ...         ...  ..            ...   \n",
              "995        1007  A200079_v01.txt_1.txt          일본  여자        사진기 빌리기   \n",
              "996        1008  A200079_v01.txt_2.txt          일본  여자  우리 나라의 계절과 날씨   \n",
              "997        1009  A200079_v02.txt_1.txt         스웨덴  남자             편지   \n",
              "998        1010  A200079_v02.txt_2.txt         스웨덴  남자      기억에 남는 여행   \n",
              "999        1011  A200080_v01.txt_1.txt          일본  여자        사진기 빌리기   \n",
              "\n",
              "                                               content  score  sentence  \\\n",
              "0    제 나라의 계절은 아주 좋아요. 네 계절이 있습니다. 봄에는 날씨가 좋아요. 꽃이 ...     80        18   \n",
              "1    어제 명동에 갔습니다. 친구하고 같이 갔습니다. 가게가 많습니다. 옷가게가 있었습니...     70        10   \n",
              "2    저는 여행을 제주도에서 갈 싶습니다. 저는 친구 같이 갈 겁니다. 6월 15일 갈 ...     50         7   \n",
              "3    주말에 도서관에서 공부했어요. 친구하고 노래방에서 노래했어요. 친구하고 식당에서 비...     60         9   \n",
              "4     어제 저는 학교에 갔습니다. 학교에서 친구하고를 다닙니다. 학교에 학생 식당 있습니다.     20         4   \n",
              "..                                                 ...    ...       ...   \n",
              "995  하지만 빌리 씨는 사진기를 없었습니다. 그래서 빌리 씨는 아노코 씨에게 이야기하고 ...     90         7   \n",
              "996  내 나라는 일본입니다. 일본의 계절은 뚜렷합니다. 봄은 다뜻합니다. 꽃을 많이 피나...     80        15   \n",
              "997  잘 지냈어요? 저도 잘 지냈어요. 한국 생활은 아주 재미있고 편해요. 한국어 공부를...     80        11   \n",
              "998  지난 주말에 친구들하고 이탈리아에서 축구 경기를 보러 갔습니다. 우리는 영국에서 비...     90        14   \n",
              "999  하지만 빌리 씨는 사진기가 없었어요. 그 이야기를 나오코씨에게 이야기했어요. 그래서...     70         9   \n",
              "\n",
              "                                        content_vector  \n",
              "0    [0.0, 0.0, 0.0, 0.0, 0.0, 0.0, 0.0, 0.0, 0.0, ...  \n",
              "1    [0.0, 0.0, 0.0, 0.0, 0.0, 0.0, 0.0, 0.0, 0.0, ...  \n",
              "2    [0.0, 0.0, 0.0, 0.0, 0.0, 0.0, 0.0, 0.0, 0.0, ...  \n",
              "3    [0.0, 0.0, 0.0, 0.0, 0.0, 0.0, 0.0, 0.0, 0.0, ...  \n",
              "4    [0.0, 0.0, 0.0, 0.0, 0.0, 0.0, 0.0, 0.0, 0.0, ...  \n",
              "..                                                 ...  \n",
              "995  [0.0, 0.0, 0.0, 0.0, 0.0, 0.0, 0.0, 0.0, 0.0, ...  \n",
              "996  [0.0, 0.0, 0.0, 0.0, 0.0, 0.0, 0.0, 0.0, 0.0, ...  \n",
              "997  [0.0, 0.0, 0.0, 0.0, 0.0, 0.0, 0.0, 0.0, 0.0, ...  \n",
              "998  [0.0, 0.0, 0.0, 0.0, 0.0, 0.0, 0.1549718154414...  \n",
              "999  [0.0, 0.0, 0.0, 0.0, 0.0, 0.0, 0.0, 0.0, 0.0, ...  \n",
              "\n",
              "[1000 rows x 9 columns]"
            ],
            "text/html": [
              "\n",
              "  <div id=\"df-3701e7ae-663c-4fe5-a9e1-902804ae4b7a\">\n",
              "    <div class=\"colab-df-container\">\n",
              "      <div>\n",
              "<style scoped>\n",
              "    .dataframe tbody tr th:only-of-type {\n",
              "        vertical-align: middle;\n",
              "    }\n",
              "\n",
              "    .dataframe tbody tr th {\n",
              "        vertical-align: top;\n",
              "    }\n",
              "\n",
              "    .dataframe thead th {\n",
              "        text-align: right;\n",
              "    }\n",
              "</style>\n",
              "<table border=\"1\" class=\"dataframe\">\n",
              "  <thead>\n",
              "    <tr style=\"text-align: right;\">\n",
              "      <th></th>\n",
              "      <th>Unnamed: 0</th>\n",
              "      <th>id</th>\n",
              "      <th>nationality</th>\n",
              "      <th>sex</th>\n",
              "      <th>title</th>\n",
              "      <th>content</th>\n",
              "      <th>score</th>\n",
              "      <th>sentence</th>\n",
              "      <th>content_vector</th>\n",
              "    </tr>\n",
              "  </thead>\n",
              "  <tbody>\n",
              "    <tr>\n",
              "      <th>0</th>\n",
              "      <td>1</td>\n",
              "      <td>A100000_v01.txt_2.txt</td>\n",
              "      <td>중국</td>\n",
              "      <td>남자</td>\n",
              "      <td>우리 나라의 계절과 날씨</td>\n",
              "      <td>제 나라의 계절은 아주 좋아요. 네 계절이 있습니다. 봄에는 날씨가 좋아요. 꽃이 ...</td>\n",
              "      <td>80</td>\n",
              "      <td>18</td>\n",
              "      <td>[0.0, 0.0, 0.0, 0.0, 0.0, 0.0, 0.0, 0.0, 0.0, ...</td>\n",
              "    </tr>\n",
              "    <tr>\n",
              "      <th>1</th>\n",
              "      <td>2</td>\n",
              "      <td>A100000_v02.txt_1.txt</td>\n",
              "      <td>중국</td>\n",
              "      <td>여자</td>\n",
              "      <td>주말 이야기</td>\n",
              "      <td>어제 명동에 갔습니다. 친구하고 같이 갔습니다. 가게가 많습니다. 옷가게가 있었습니...</td>\n",
              "      <td>70</td>\n",
              "      <td>10</td>\n",
              "      <td>[0.0, 0.0, 0.0, 0.0, 0.0, 0.0, 0.0, 0.0, 0.0, ...</td>\n",
              "    </tr>\n",
              "    <tr>\n",
              "      <th>2</th>\n",
              "      <td>3</td>\n",
              "      <td>A100000_v03.txt_1.txt</td>\n",
              "      <td>중국</td>\n",
              "      <td>남자</td>\n",
              "      <td>여행 계획</td>\n",
              "      <td>저는 여행을 제주도에서 갈 싶습니다. 저는 친구 같이 갈 겁니다. 6월 15일 갈 ...</td>\n",
              "      <td>50</td>\n",
              "      <td>7</td>\n",
              "      <td>[0.0, 0.0, 0.0, 0.0, 0.0, 0.0, 0.0, 0.0, 0.0, ...</td>\n",
              "    </tr>\n",
              "    <tr>\n",
              "      <th>3</th>\n",
              "      <td>4</td>\n",
              "      <td>A100001_v01.txt_1.txt</td>\n",
              "      <td>중국</td>\n",
              "      <td>남자</td>\n",
              "      <td>주말 이야기</td>\n",
              "      <td>주말에 도서관에서 공부했어요. 친구하고 노래방에서 노래했어요. 친구하고 식당에서 비...</td>\n",
              "      <td>60</td>\n",
              "      <td>9</td>\n",
              "      <td>[0.0, 0.0, 0.0, 0.0, 0.0, 0.0, 0.0, 0.0, 0.0, ...</td>\n",
              "    </tr>\n",
              "    <tr>\n",
              "      <th>4</th>\n",
              "      <td>5</td>\n",
              "      <td>A100001_v02.txt_1.txt</td>\n",
              "      <td>중국</td>\n",
              "      <td>남자</td>\n",
              "      <td>주말 이야기</td>\n",
              "      <td>어제 저는 학교에 갔습니다. 학교에서 친구하고를 다닙니다. 학교에 학생 식당 있습니다.</td>\n",
              "      <td>20</td>\n",
              "      <td>4</td>\n",
              "      <td>[0.0, 0.0, 0.0, 0.0, 0.0, 0.0, 0.0, 0.0, 0.0, ...</td>\n",
              "    </tr>\n",
              "    <tr>\n",
              "      <th>...</th>\n",
              "      <td>...</td>\n",
              "      <td>...</td>\n",
              "      <td>...</td>\n",
              "      <td>...</td>\n",
              "      <td>...</td>\n",
              "      <td>...</td>\n",
              "      <td>...</td>\n",
              "      <td>...</td>\n",
              "      <td>...</td>\n",
              "    </tr>\n",
              "    <tr>\n",
              "      <th>995</th>\n",
              "      <td>1007</td>\n",
              "      <td>A200079_v01.txt_1.txt</td>\n",
              "      <td>일본</td>\n",
              "      <td>여자</td>\n",
              "      <td>사진기 빌리기</td>\n",
              "      <td>하지만 빌리 씨는 사진기를 없었습니다. 그래서 빌리 씨는 아노코 씨에게 이야기하고 ...</td>\n",
              "      <td>90</td>\n",
              "      <td>7</td>\n",
              "      <td>[0.0, 0.0, 0.0, 0.0, 0.0, 0.0, 0.0, 0.0, 0.0, ...</td>\n",
              "    </tr>\n",
              "    <tr>\n",
              "      <th>996</th>\n",
              "      <td>1008</td>\n",
              "      <td>A200079_v01.txt_2.txt</td>\n",
              "      <td>일본</td>\n",
              "      <td>여자</td>\n",
              "      <td>우리 나라의 계절과 날씨</td>\n",
              "      <td>내 나라는 일본입니다. 일본의 계절은 뚜렷합니다. 봄은 다뜻합니다. 꽃을 많이 피나...</td>\n",
              "      <td>80</td>\n",
              "      <td>15</td>\n",
              "      <td>[0.0, 0.0, 0.0, 0.0, 0.0, 0.0, 0.0, 0.0, 0.0, ...</td>\n",
              "    </tr>\n",
              "    <tr>\n",
              "      <th>997</th>\n",
              "      <td>1009</td>\n",
              "      <td>A200079_v02.txt_1.txt</td>\n",
              "      <td>스웨덴</td>\n",
              "      <td>남자</td>\n",
              "      <td>편지</td>\n",
              "      <td>잘 지냈어요? 저도 잘 지냈어요. 한국 생활은 아주 재미있고 편해요. 한국어 공부를...</td>\n",
              "      <td>80</td>\n",
              "      <td>11</td>\n",
              "      <td>[0.0, 0.0, 0.0, 0.0, 0.0, 0.0, 0.0, 0.0, 0.0, ...</td>\n",
              "    </tr>\n",
              "    <tr>\n",
              "      <th>998</th>\n",
              "      <td>1010</td>\n",
              "      <td>A200079_v02.txt_2.txt</td>\n",
              "      <td>스웨덴</td>\n",
              "      <td>남자</td>\n",
              "      <td>기억에 남는 여행</td>\n",
              "      <td>지난 주말에 친구들하고 이탈리아에서 축구 경기를 보러 갔습니다. 우리는 영국에서 비...</td>\n",
              "      <td>90</td>\n",
              "      <td>14</td>\n",
              "      <td>[0.0, 0.0, 0.0, 0.0, 0.0, 0.0, 0.1549718154414...</td>\n",
              "    </tr>\n",
              "    <tr>\n",
              "      <th>999</th>\n",
              "      <td>1011</td>\n",
              "      <td>A200080_v01.txt_1.txt</td>\n",
              "      <td>일본</td>\n",
              "      <td>여자</td>\n",
              "      <td>사진기 빌리기</td>\n",
              "      <td>하지만 빌리 씨는 사진기가 없었어요. 그 이야기를 나오코씨에게 이야기했어요. 그래서...</td>\n",
              "      <td>70</td>\n",
              "      <td>9</td>\n",
              "      <td>[0.0, 0.0, 0.0, 0.0, 0.0, 0.0, 0.0, 0.0, 0.0, ...</td>\n",
              "    </tr>\n",
              "  </tbody>\n",
              "</table>\n",
              "<p>1000 rows × 9 columns</p>\n",
              "</div>\n",
              "      <button class=\"colab-df-convert\" onclick=\"convertToInteractive('df-3701e7ae-663c-4fe5-a9e1-902804ae4b7a')\"\n",
              "              title=\"Convert this dataframe to an interactive table.\"\n",
              "              style=\"display:none;\">\n",
              "        \n",
              "  <svg xmlns=\"http://www.w3.org/2000/svg\" height=\"24px\"viewBox=\"0 0 24 24\"\n",
              "       width=\"24px\">\n",
              "    <path d=\"M0 0h24v24H0V0z\" fill=\"none\"/>\n",
              "    <path d=\"M18.56 5.44l.94 2.06.94-2.06 2.06-.94-2.06-.94-.94-2.06-.94 2.06-2.06.94zm-11 1L8.5 8.5l.94-2.06 2.06-.94-2.06-.94L8.5 2.5l-.94 2.06-2.06.94zm10 10l.94 2.06.94-2.06 2.06-.94-2.06-.94-.94-2.06-.94 2.06-2.06.94z\"/><path d=\"M17.41 7.96l-1.37-1.37c-.4-.4-.92-.59-1.43-.59-.52 0-1.04.2-1.43.59L10.3 9.45l-7.72 7.72c-.78.78-.78 2.05 0 2.83L4 21.41c.39.39.9.59 1.41.59.51 0 1.02-.2 1.41-.59l7.78-7.78 2.81-2.81c.8-.78.8-2.07 0-2.86zM5.41 20L4 18.59l7.72-7.72 1.47 1.35L5.41 20z\"/>\n",
              "  </svg>\n",
              "      </button>\n",
              "      \n",
              "  <style>\n",
              "    .colab-df-container {\n",
              "      display:flex;\n",
              "      flex-wrap:wrap;\n",
              "      gap: 12px;\n",
              "    }\n",
              "\n",
              "    .colab-df-convert {\n",
              "      background-color: #E8F0FE;\n",
              "      border: none;\n",
              "      border-radius: 50%;\n",
              "      cursor: pointer;\n",
              "      display: none;\n",
              "      fill: #1967D2;\n",
              "      height: 32px;\n",
              "      padding: 0 0 0 0;\n",
              "      width: 32px;\n",
              "    }\n",
              "\n",
              "    .colab-df-convert:hover {\n",
              "      background-color: #E2EBFA;\n",
              "      box-shadow: 0px 1px 2px rgba(60, 64, 67, 0.3), 0px 1px 3px 1px rgba(60, 64, 67, 0.15);\n",
              "      fill: #174EA6;\n",
              "    }\n",
              "\n",
              "    [theme=dark] .colab-df-convert {\n",
              "      background-color: #3B4455;\n",
              "      fill: #D2E3FC;\n",
              "    }\n",
              "\n",
              "    [theme=dark] .colab-df-convert:hover {\n",
              "      background-color: #434B5C;\n",
              "      box-shadow: 0px 1px 3px 1px rgba(0, 0, 0, 0.15);\n",
              "      filter: drop-shadow(0px 1px 2px rgba(0, 0, 0, 0.3));\n",
              "      fill: #FFFFFF;\n",
              "    }\n",
              "  </style>\n",
              "\n",
              "      <script>\n",
              "        const buttonEl =\n",
              "          document.querySelector('#df-3701e7ae-663c-4fe5-a9e1-902804ae4b7a button.colab-df-convert');\n",
              "        buttonEl.style.display =\n",
              "          google.colab.kernel.accessAllowed ? 'block' : 'none';\n",
              "\n",
              "        async function convertToInteractive(key) {\n",
              "          const element = document.querySelector('#df-3701e7ae-663c-4fe5-a9e1-902804ae4b7a');\n",
              "          const dataTable =\n",
              "            await google.colab.kernel.invokeFunction('convertToInteractive',\n",
              "                                                     [key], {});\n",
              "          if (!dataTable) return;\n",
              "\n",
              "          const docLinkHtml = 'Like what you see? Visit the ' +\n",
              "            '<a target=\"_blank\" href=https://colab.research.google.com/notebooks/data_table.ipynb>data table notebook</a>'\n",
              "            + ' to learn more about interactive tables.';\n",
              "          element.innerHTML = '';\n",
              "          dataTable['output_type'] = 'display_data';\n",
              "          await google.colab.output.renderOutput(dataTable, element);\n",
              "          const docLink = document.createElement('div');\n",
              "          docLink.innerHTML = docLinkHtml;\n",
              "          element.appendChild(docLink);\n",
              "        }\n",
              "      </script>\n",
              "    </div>\n",
              "  </div>\n",
              "  "
            ]
          },
          "metadata": {},
          "execution_count": 22
        }
      ]
    },
    {
      "cell_type": "code",
      "source": [
        "x_train = df[\"sentence\"].to_numpy()\n",
        "y_train = df[\"score\"].to_numpy()"
      ],
      "metadata": {
        "id": "OFRzjktU_3Tj"
      },
      "execution_count": null,
      "outputs": []
    },
    {
      "cell_type": "code",
      "source": [
        "x_train = torch.from_numpy(x_train)\n",
        "y_train = torch.from_numpy(y_train)"
      ],
      "metadata": {
        "id": "a8RQJn8qAg4i"
      },
      "execution_count": null,
      "outputs": []
    },
    {
      "cell_type": "code",
      "source": [
        "optimizer = torch.optim.SGD(params=[W], lr=0.1)"
      ],
      "metadata": {
        "id": "_H23D8NaBFoj"
      },
      "execution_count": null,
      "outputs": []
    },
    {
      "cell_type": "code",
      "source": [
        "# 데이터\n",
        "#x_train = torch.FloatTensor([[1], [2], [3]]) \n",
        "#y_train = torch.FloatTensor([[1], [2], [3]]) # 모델 초기화\n",
        "W = torch.zeros(1, requires_grad=True)\n",
        "# optimizer 설정\n",
        "optimizer = torch.optim.SGD([W], lr=0.15)\n",
        "nb_epochs = 10\n",
        "for epoch in range(nb_epochs + 1):\n",
        "# H(x) 계산\n",
        "  hypothesis = x_train * W\n",
        "  # cost 계산\n",
        "  cost = torch.mean((hypothesis - y_train) ** 2)\n",
        "  print('Epoch {:4d}/{} W: {:.3f} Cost: {:.6f}'.format( epoch, nb_epochs, W.item(), cost.item()\n",
        "  ))\n",
        "  # cost로 H(x) 개선 \n",
        "  optimizer.zero_grad() \n",
        "  cost.backward() \n",
        "  optimizer.step()"
      ],
      "metadata": {
        "colab": {
          "base_uri": "https://localhost:8080/"
        },
        "id": "6zDX3xZzFF5H",
        "outputId": "68383009-a9c3-41cd-ae76-ee36f455e2a9"
      },
      "execution_count": null,
      "outputs": [
        {
          "output_type": "stream",
          "name": "stdout",
          "text": [
            "Epoch    0/10 W: 0.000 Cost: 5608.200195\n",
            "Epoch    1/10 W: 233.823 Cost: 6322896.000000\n",
            "Epoch    2/10 W: -8105.219 Cost: 8041370624.000000\n",
            "Epoch    3/10 W: 289297.594 Cost: 10227932987392.000000\n",
            "Epoch    4/10 W: -10317248.000 Cost: 13009052212658176.000000\n",
            "Epoch    5/10 W: 367953568.000 Cost: 16546398753796390912.000000\n",
            "Epoch    6/10 W: -13122661376.000 Cost: 21045598030079411093504.000000\n",
            "Epoch    7/10 W: 468005355520.000 Cost: 26768194840882427889451008.000000\n",
            "Epoch    8/10 W: -16690897223680.000 Cost: 34046836186812315357893623808.000000\n",
            "Epoch    9/10 W: 595262468784128.000 Cost: 43304636806515645697631302189056.000000\n",
            "Epoch   10/10 W: -21229383394000896.000 Cost: 55079780058408038826072024817860608.000000\n"
          ]
        }
      ]
    },
    {
      "cell_type": "markdown",
      "source": [
        "### 왜 loss가 발산할까?\n",
        " - lr이 너무 높아서\n",
        " - sample이 너무 많아서 loss값이 애초에 크다\n",
        " "
      ],
      "metadata": {
        "id": "gGu9XbEvQMdE"
      }
    },
    {
      "cell_type": "code",
      "source": [
        "class MyLinearModel(torch.nn.Module):\n",
        "  def __init__(self):\n",
        "    super().__init__()\n",
        "    self.linear = torch.nn.Linear(in_features=2, out_features= 1)\n",
        "\n",
        "  def forward(self, x):\n",
        "    return self.linear(x)"
      ],
      "metadata": {
        "id": "rKRfBzs-B4zA"
      },
      "execution_count": null,
      "outputs": []
    },
    {
      "cell_type": "code",
      "source": [
        "myLin = MyLinearModel()"
      ],
      "metadata": {
        "id": "B80VnoANR7zH"
      },
      "execution_count": null,
      "outputs": []
    },
    {
      "cell_type": "code",
      "source": [
        "dummy_x_train = torch.FloatTensor([[2,5],[3,7],[4,9]])\n",
        "dummy_y_train = torch.FloatTensor([[2],[3],[4]])"
      ],
      "metadata": {
        "id": "hhvXLy8fR-oC"
      },
      "execution_count": null,
      "outputs": []
    },
    {
      "cell_type": "code",
      "source": [
        "list(myLin.parameters())"
      ],
      "metadata": {
        "colab": {
          "base_uri": "https://localhost:8080/"
        },
        "id": "GoSKXyjQTDbg",
        "outputId": "b886895b-2253-4291-9926-524cbcd9e43c"
      },
      "execution_count": null,
      "outputs": [
        {
          "output_type": "execute_result",
          "data": {
            "text/plain": [
              "[Parameter containing:\n",
              " tensor([[0.7250, 0.0720]], requires_grad=True), Parameter containing:\n",
              " tensor([0.3461], requires_grad=True)]"
            ]
          },
          "metadata": {},
          "execution_count": 67
        }
      ]
    },
    {
      "cell_type": "code",
      "source": [
        "optimizer = torch.optim.SGD(myLin.parameters(), lr=0.01)"
      ],
      "metadata": {
        "id": "TtffS_VPSefo"
      },
      "execution_count": null,
      "outputs": []
    },
    {
      "cell_type": "code",
      "source": [
        "myLin(dummy_x_train)"
      ],
      "metadata": {
        "colab": {
          "base_uri": "https://localhost:8080/"
        },
        "id": "JJzqbWamSTWY",
        "outputId": "e1f9dc8c-91b6-49aa-b6a0-9da77c84b497"
      },
      "execution_count": null,
      "outputs": [
        {
          "output_type": "execute_result",
          "data": {
            "text/plain": [
              "tensor([[-0.2273],\n",
              "        [-0.3272],\n",
              "        [-0.4271]], grad_fn=<AddmmBackward0>)"
            ]
          },
          "metadata": {},
          "execution_count": 53
        }
      ]
    },
    {
      "cell_type": "code",
      "source": [
        "import torch.nn.functional as F"
      ],
      "metadata": {
        "id": "MKeTl5EDTqTl"
      },
      "execution_count": null,
      "outputs": []
    },
    {
      "cell_type": "code",
      "source": [
        "# 데이터\n",
        "x_train = dummy_x_train\n",
        "y_train = dummy_y_train\n",
        "\n",
        "nb_epochs = 10\n",
        "for epoch in range(nb_epochs + 1):\n",
        "# H(x) 계산\n",
        "  hypothesis = myLin(x_train)\n",
        "  # cost 계산\n",
        "  cost = F.mse_loss(hypothesis, y_train)\n",
        "  print('Epoch {:4d}/{} Cost: {:.6f}'.format( epoch, nb_epochs, cost.item()\n",
        "  ))\n",
        "  # cost로 H(x) 개선 \n",
        "  optimizer.zero_grad() \n",
        "  cost.backward() \n",
        "  optimizer.step()"
      ],
      "metadata": {
        "colab": {
          "base_uri": "https://localhost:8080/"
        },
        "id": "aHp0yt8ASaO_",
        "outputId": "f3433802-cd29-434c-98ae-3a4f919958f2"
      },
      "execution_count": null,
      "outputs": [
        {
          "output_type": "stream",
          "name": "stdout",
          "text": [
            "Epoch    0/10 W: 757122676094402560.000 Cost: 11.876952\n",
            "Epoch    1/10 W: 757122676094402560.000 Cost: 0.726773\n",
            "Epoch    2/10 W: 757122676094402560.000 Cost: 0.055365\n",
            "Epoch    3/10 W: 757122676094402560.000 Cost: 0.014908\n",
            "Epoch    4/10 W: 757122676094402560.000 Cost: 0.012442\n",
            "Epoch    5/10 W: 757122676094402560.000 Cost: 0.012264\n",
            "Epoch    6/10 W: 757122676094402560.000 Cost: 0.012224\n",
            "Epoch    7/10 W: 757122676094402560.000 Cost: 0.012192\n",
            "Epoch    8/10 W: 757122676094402560.000 Cost: 0.012161\n",
            "Epoch    9/10 W: 757122676094402560.000 Cost: 0.012129\n",
            "Epoch   10/10 W: 757122676094402560.000 Cost: 0.012098\n"
          ]
        }
      ]
    },
    {
      "cell_type": "code",
      "source": [],
      "metadata": {
        "id": "VuaKe9HQT4Bv"
      },
      "execution_count": null,
      "outputs": []
    }
  ]
}