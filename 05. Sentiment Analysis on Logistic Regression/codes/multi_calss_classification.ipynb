{
  "nbformat": 4,
  "nbformat_minor": 0,
  "metadata": {
    "colab": {
      "provenance": []
    },
    "kernelspec": {
      "name": "python3",
      "display_name": "Python 3"
    },
    "language_info": {
      "name": "python"
    }
  },
  "cells": [
    {
      "cell_type": "markdown",
      "source": [
        "# 문서 분류를 하는 자연어 분류기를 만들어 보자\n",
        " - Input: 문서 --> [\"현재 금리상태는 ...]\n",
        " - Output: 시제 --> [\"\"현재, \"미래, \"과거\"']\n",
        " - model: 글자 encoding = TF-idf, 학습- Logistic Regression"
      ],
      "metadata": {
        "id": "nYRZ0lBOJEPk"
      }
    },
    {
      "cell_type": "markdown",
      "source": [
        "## 1. 패키지 설치"
      ],
      "metadata": {
        "id": "OBPMjPn0Jxz9"
      }
    },
    {
      "cell_type": "code",
      "execution_count": 2,
      "metadata": {
        "id": "FJubbp0PHZGQ"
      },
      "outputs": [],
      "source": [
        "import numpy as np\n",
        "import pandas as pd\n",
        "import torch\n",
        "import torch.nn as nn\n",
        "from sklearn.feature_extraction.text import TfidfVectorizer"
      ]
    },
    {
      "cell_type": "markdown",
      "source": [
        "## 2. Data preprocessing"
      ],
      "metadata": {
        "id": "e7VGzXUOKBq0"
      }
    },
    {
      "cell_type": "code",
      "source": [
        "df = pd.read_csv(\"train.csv\")[:1000]"
      ],
      "metadata": {
        "id": "aBTNmiFfKAcR"
      },
      "execution_count": 3,
      "outputs": []
    },
    {
      "cell_type": "markdown",
      "source": [
        "### 2-1. label indexing"
      ],
      "metadata": {
        "id": "8Pz3b58jOL6O"
      }
    },
    {
      "cell_type": "code",
      "source": [
        "label_list = df[\"시제\"].value_counts().keys().tolist()\n",
        "num_label = len(label_list)"
      ],
      "metadata": {
        "id": "djxKOqogLGGZ"
      },
      "execution_count": 4,
      "outputs": []
    },
    {
      "cell_type": "code",
      "source": [
        "num_label"
      ],
      "metadata": {
        "colab": {
          "base_uri": "https://localhost:8080/"
        },
        "id": "ZF0PJmB5LtOv",
        "outputId": "7b811eb1-f28a-4750-ba51-14819c969a2e"
      },
      "execution_count": 5,
      "outputs": [
        {
          "output_type": "execute_result",
          "data": {
            "text/plain": [
              "3"
            ]
          },
          "metadata": {},
          "execution_count": 5
        }
      ]
    },
    {
      "cell_type": "code",
      "source": [
        "def label_encoder(x):\n",
        "  result = 0\n",
        "  if str(x) == \"현재\":\n",
        "    result = 0\n",
        "  elif str(x) == \"과거\":\n",
        "    result = 1\n",
        "  elif str(x) ==\"미래\":\n",
        "    result = 2\n",
        "  else:\n",
        "    print(\"error\")\n",
        "  return result"
      ],
      "metadata": {
        "id": "oo6Wpgy2MJcV"
      },
      "execution_count": 6,
      "outputs": []
    },
    {
      "cell_type": "code",
      "source": [
        "df[\"label_num\"] = df[\"시제\"].apply(lambda x: label_encoder(x))"
      ],
      "metadata": {
        "id": "lYcMZ50bNA4R"
      },
      "execution_count": 7,
      "outputs": []
    },
    {
      "cell_type": "code",
      "source": [
        "df.head(2)"
      ],
      "metadata": {
        "colab": {
          "base_uri": "https://localhost:8080/",
          "height": 208
        },
        "id": "N_KAWYi8NDYO",
        "outputId": "b484add7-fda5-4b66-d9c0-25e4ab82a991"
      },
      "execution_count": 8,
      "outputs": [
        {
          "output_type": "execute_result",
          "data": {
            "text/plain": [
              "            ID                                                 문장   유형  극성  \\\n",
              "0  TRAIN_00000              0.75%포인트 금리 인상은 1994년 이후 28년 만에 처음이다.  사실형  긍정   \n",
              "1  TRAIN_00001  이어 ＂앞으로 전문가들과 함께 4주 단위로 상황을 재평가할 예정＂이라며 ＂그 이전이...  사실형  긍정   \n",
              "\n",
              "   시제 확실성         label  label_num  \n",
              "0  현재  확실  사실형-긍정-현재-확실          0  \n",
              "1  과거  확실  사실형-긍정-과거-확실          1  "
            ],
            "text/html": [
              "\n",
              "  <div id=\"df-34cf9d26-5286-4a73-93ce-d4bc39dc0692\">\n",
              "    <div class=\"colab-df-container\">\n",
              "      <div>\n",
              "<style scoped>\n",
              "    .dataframe tbody tr th:only-of-type {\n",
              "        vertical-align: middle;\n",
              "    }\n",
              "\n",
              "    .dataframe tbody tr th {\n",
              "        vertical-align: top;\n",
              "    }\n",
              "\n",
              "    .dataframe thead th {\n",
              "        text-align: right;\n",
              "    }\n",
              "</style>\n",
              "<table border=\"1\" class=\"dataframe\">\n",
              "  <thead>\n",
              "    <tr style=\"text-align: right;\">\n",
              "      <th></th>\n",
              "      <th>ID</th>\n",
              "      <th>문장</th>\n",
              "      <th>유형</th>\n",
              "      <th>극성</th>\n",
              "      <th>시제</th>\n",
              "      <th>확실성</th>\n",
              "      <th>label</th>\n",
              "      <th>label_num</th>\n",
              "    </tr>\n",
              "  </thead>\n",
              "  <tbody>\n",
              "    <tr>\n",
              "      <th>0</th>\n",
              "      <td>TRAIN_00000</td>\n",
              "      <td>0.75%포인트 금리 인상은 1994년 이후 28년 만에 처음이다.</td>\n",
              "      <td>사실형</td>\n",
              "      <td>긍정</td>\n",
              "      <td>현재</td>\n",
              "      <td>확실</td>\n",
              "      <td>사실형-긍정-현재-확실</td>\n",
              "      <td>0</td>\n",
              "    </tr>\n",
              "    <tr>\n",
              "      <th>1</th>\n",
              "      <td>TRAIN_00001</td>\n",
              "      <td>이어 ＂앞으로 전문가들과 함께 4주 단위로 상황을 재평가할 예정＂이라며 ＂그 이전이...</td>\n",
              "      <td>사실형</td>\n",
              "      <td>긍정</td>\n",
              "      <td>과거</td>\n",
              "      <td>확실</td>\n",
              "      <td>사실형-긍정-과거-확실</td>\n",
              "      <td>1</td>\n",
              "    </tr>\n",
              "  </tbody>\n",
              "</table>\n",
              "</div>\n",
              "      <button class=\"colab-df-convert\" onclick=\"convertToInteractive('df-34cf9d26-5286-4a73-93ce-d4bc39dc0692')\"\n",
              "              title=\"Convert this dataframe to an interactive table.\"\n",
              "              style=\"display:none;\">\n",
              "        \n",
              "  <svg xmlns=\"http://www.w3.org/2000/svg\" height=\"24px\"viewBox=\"0 0 24 24\"\n",
              "       width=\"24px\">\n",
              "    <path d=\"M0 0h24v24H0V0z\" fill=\"none\"/>\n",
              "    <path d=\"M18.56 5.44l.94 2.06.94-2.06 2.06-.94-2.06-.94-.94-2.06-.94 2.06-2.06.94zm-11 1L8.5 8.5l.94-2.06 2.06-.94-2.06-.94L8.5 2.5l-.94 2.06-2.06.94zm10 10l.94 2.06.94-2.06 2.06-.94-2.06-.94-.94-2.06-.94 2.06-2.06.94z\"/><path d=\"M17.41 7.96l-1.37-1.37c-.4-.4-.92-.59-1.43-.59-.52 0-1.04.2-1.43.59L10.3 9.45l-7.72 7.72c-.78.78-.78 2.05 0 2.83L4 21.41c.39.39.9.59 1.41.59.51 0 1.02-.2 1.41-.59l7.78-7.78 2.81-2.81c.8-.78.8-2.07 0-2.86zM5.41 20L4 18.59l7.72-7.72 1.47 1.35L5.41 20z\"/>\n",
              "  </svg>\n",
              "      </button>\n",
              "      \n",
              "  <style>\n",
              "    .colab-df-container {\n",
              "      display:flex;\n",
              "      flex-wrap:wrap;\n",
              "      gap: 12px;\n",
              "    }\n",
              "\n",
              "    .colab-df-convert {\n",
              "      background-color: #E8F0FE;\n",
              "      border: none;\n",
              "      border-radius: 50%;\n",
              "      cursor: pointer;\n",
              "      display: none;\n",
              "      fill: #1967D2;\n",
              "      height: 32px;\n",
              "      padding: 0 0 0 0;\n",
              "      width: 32px;\n",
              "    }\n",
              "\n",
              "    .colab-df-convert:hover {\n",
              "      background-color: #E2EBFA;\n",
              "      box-shadow: 0px 1px 2px rgba(60, 64, 67, 0.3), 0px 1px 3px 1px rgba(60, 64, 67, 0.15);\n",
              "      fill: #174EA6;\n",
              "    }\n",
              "\n",
              "    [theme=dark] .colab-df-convert {\n",
              "      background-color: #3B4455;\n",
              "      fill: #D2E3FC;\n",
              "    }\n",
              "\n",
              "    [theme=dark] .colab-df-convert:hover {\n",
              "      background-color: #434B5C;\n",
              "      box-shadow: 0px 1px 3px 1px rgba(0, 0, 0, 0.15);\n",
              "      filter: drop-shadow(0px 1px 2px rgba(0, 0, 0, 0.3));\n",
              "      fill: #FFFFFF;\n",
              "    }\n",
              "  </style>\n",
              "\n",
              "      <script>\n",
              "        const buttonEl =\n",
              "          document.querySelector('#df-34cf9d26-5286-4a73-93ce-d4bc39dc0692 button.colab-df-convert');\n",
              "        buttonEl.style.display =\n",
              "          google.colab.kernel.accessAllowed ? 'block' : 'none';\n",
              "\n",
              "        async function convertToInteractive(key) {\n",
              "          const element = document.querySelector('#df-34cf9d26-5286-4a73-93ce-d4bc39dc0692');\n",
              "          const dataTable =\n",
              "            await google.colab.kernel.invokeFunction('convertToInteractive',\n",
              "                                                     [key], {});\n",
              "          if (!dataTable) return;\n",
              "\n",
              "          const docLinkHtml = 'Like what you see? Visit the ' +\n",
              "            '<a target=\"_blank\" href=https://colab.research.google.com/notebooks/data_table.ipynb>data table notebook</a>'\n",
              "            + ' to learn more about interactive tables.';\n",
              "          element.innerHTML = '';\n",
              "          dataTable['output_type'] = 'display_data';\n",
              "          await google.colab.output.renderOutput(dataTable, element);\n",
              "          const docLink = document.createElement('div');\n",
              "          docLink.innerHTML = docLinkHtml;\n",
              "          element.appendChild(docLink);\n",
              "        }\n",
              "      </script>\n",
              "    </div>\n",
              "  </div>\n",
              "  "
            ]
          },
          "metadata": {},
          "execution_count": 8
        }
      ]
    },
    {
      "cell_type": "markdown",
      "source": [
        "### 2-2. Input encoding"
      ],
      "metadata": {
        "id": "g8HvlK7mOTDZ"
      }
    },
    {
      "cell_type": "code",
      "source": [
        "corpus = df[\"문장\"]\n",
        "\n",
        "vectorizer = TfidfVectorizer()\n",
        "X = vectorizer.fit_transform(corpus)\n",
        "vectorizer.get_feature_names_out()"
      ],
      "metadata": {
        "colab": {
          "base_uri": "https://localhost:8080/"
        },
        "id": "oHf1Am1mNg3p",
        "outputId": "26fa7924-6da4-4587-f283-ab2c0e4b3e2b"
      },
      "execution_count": 9,
      "outputs": [
        {
          "output_type": "execute_result",
          "data": {
            "text/plain": [
              "array(['000kg', '000kg인', '000대', ..., '힘으로', '힘을', '힘이'], dtype=object)"
            ]
          },
          "metadata": {},
          "execution_count": 9
        }
      ]
    },
    {
      "cell_type": "code",
      "source": [
        "num_inputs =  len(vectorizer.get_feature_names_out())\n"
      ],
      "metadata": {
        "id": "79-9dzqGOfSY"
      },
      "execution_count": 10,
      "outputs": []
    },
    {
      "cell_type": "code",
      "source": [
        "len(X.todense().tolist())"
      ],
      "metadata": {
        "colab": {
          "base_uri": "https://localhost:8080/"
        },
        "id": "c3fEp2sGPzpU",
        "outputId": "71038684-d0a6-4b53-97ab-0cf596998cf2"
      },
      "execution_count": 11,
      "outputs": [
        {
          "output_type": "execute_result",
          "data": {
            "text/plain": [
              "1000"
            ]
          },
          "metadata": {},
          "execution_count": 11
        }
      ]
    },
    {
      "cell_type": "code",
      "source": [
        "df[\"doc_vec\"] = X.todense().tolist()"
      ],
      "metadata": {
        "id": "rBsTuIDAPnOO"
      },
      "execution_count": 12,
      "outputs": []
    },
    {
      "cell_type": "markdown",
      "source": [
        "### 2-3. Dataset 구축"
      ],
      "metadata": {
        "id": "E3tieSBwPYd6"
      }
    },
    {
      "cell_type": "code",
      "source": [
        "class MyDocClassData(torch.utils.data.Dataset):\n",
        "  def __init__(self, df):\n",
        "    self.df = df\n",
        "    self.x_data = df[\"doc_vec\"]\n",
        "    self.y_data = df[\"label_num\"]\n",
        "\n",
        "  def __len__(self):\n",
        "    return len(df)\n",
        "\n",
        "  def __getitem__(self, idx):\n",
        "\n",
        "    a_sample = torch.FloatTensor(self.x_data[idx])\n",
        "    a_target = torch.LongTensor([self.y_data[idx]])\n",
        "\n",
        "    result = {\"samples\": a_sample, \"targets\": a_target }\n",
        "    return result\n"
      ],
      "metadata": {
        "id": "3dYTUcmYO9Fo"
      },
      "execution_count": 21,
      "outputs": []
    },
    {
      "cell_type": "code",
      "source": [
        "from torch.utils.data import DataLoader\n",
        "train_dataset = MyDocClassData(df)\n",
        "train_loader = DataLoader(train_dataset, batch_size=2)"
      ],
      "metadata": {
        "id": "3eXDXEHcQQ1_"
      },
      "execution_count": 22,
      "outputs": []
    },
    {
      "cell_type": "code",
      "source": [
        "batch = next(iter(train_loader))"
      ],
      "metadata": {
        "id": "6A_UcD6OSm9P"
      },
      "execution_count": 23,
      "outputs": []
    },
    {
      "cell_type": "code",
      "source": [
        "len(batch)"
      ],
      "metadata": {
        "colab": {
          "base_uri": "https://localhost:8080/"
        },
        "id": "WEklNk4KTS2C",
        "outputId": "8a72884f-fa9a-4357-894a-6247bcec9ebe"
      },
      "execution_count": 24,
      "outputs": [
        {
          "output_type": "execute_result",
          "data": {
            "text/plain": [
              "2"
            ]
          },
          "metadata": {},
          "execution_count": 24
        }
      ]
    },
    {
      "cell_type": "markdown",
      "source": [
        "## 3. Build models\n",
        " - 모델 클래스를 define한다"
      ],
      "metadata": {
        "id": "6ziq7gfrXMeI"
      }
    },
    {
      "cell_type": "code",
      "source": [
        "class MyLinear(nn.Module):\n",
        "  def __init__(self, num_feature, num_class):\n",
        "    super().__init__()\n",
        "\n",
        "    self.linear = nn.Linear(num_feature, num_class)\n",
        "\n",
        "    def forward(self, X):\n",
        "      logit = self.linear(X)\n",
        "      return logit\n",
        "\n"
      ],
      "metadata": {
        "id": "dpabqJmVXq-i"
      },
      "execution_count": 25,
      "outputs": []
    },
    {
      "cell_type": "markdown",
      "source": [
        "## 4. loss function, optimizer, learning_rate, Model, dataloader을 선언"
      ],
      "metadata": {
        "id": "vbDbaCP0XSiM"
      }
    },
    {
      "cell_type": "code",
      "source": [
        "model = MyLinear(num_inputs, num_label)\n",
        "optimizer = torch.optim.SGD(model.parameters(), lr=0.1)\n",
        "#loss_fn = torch.nn.functional.cross_entropy()"
      ],
      "metadata": {
        "id": "L13ohZ3XYd-a"
      },
      "execution_count": 26,
      "outputs": []
    },
    {
      "cell_type": "markdown",
      "source": [
        "## 5. 학습 진행"
      ],
      "metadata": {
        "id": "UgMUz0pTXaP9"
      }
    },
    {
      "cell_type": "code",
      "source": [
        "for idx, batch in enumerate(train_loader):\n",
        "  print(batch)\n",
        "  break"
      ],
      "metadata": {
        "colab": {
          "base_uri": "https://localhost:8080/"
        },
        "id": "yNRXDKfJT2o_",
        "outputId": "0cad8c3f-96dc-4f10-84fe-9bb2cb626896"
      },
      "execution_count": 27,
      "outputs": [
        {
          "output_type": "stream",
          "name": "stdout",
          "text": [
            "{'samples': tensor([[0., 0., 0.,  ..., 0., 0., 0.],\n",
            "        [0., 0., 0.,  ..., 0., 0., 0.]]), 'targets': tensor([[0],\n",
            "        [1]])}\n"
          ]
        }
      ]
    },
    {
      "cell_type": "markdown",
      "source": [
        "## 6. 학습 성능 평가 (과제)"
      ],
      "metadata": {
        "id": "mXT5q4fMXd6W"
      }
    },
    {
      "cell_type": "code",
      "source": [],
      "metadata": {
        "id": "5rbiPDcOXg69"
      },
      "execution_count": null,
      "outputs": []
    }
  ]
}